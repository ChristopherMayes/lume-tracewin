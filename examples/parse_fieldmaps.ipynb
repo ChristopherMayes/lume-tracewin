{
 "cells": [
  {
   "cell_type": "markdown",
   "id": "6fa59d28",
   "metadata": {},
   "source": [
    "# Parse TraceWin fieldmaps\n",
    "\n",
    "**IN DEVELOPMENT**"
   ]
  },
  {
   "cell_type": "code",
   "execution_count": 1,
   "id": "b2c8f19c",
   "metadata": {},
   "outputs": [],
   "source": [
    "import numpy as np\n",
    "import matplotlib.pyplot as plt"
   ]
  },
  {
   "cell_type": "code",
   "execution_count": 2,
   "id": "ac86ea41",
   "metadata": {},
   "outputs": [],
   "source": [
    "F = 'data/fields/beta063D_#43.edz'"
   ]
  },
  {
   "cell_type": "code",
   "execution_count": 3,
   "id": "fe278079",
   "metadata": {},
   "outputs": [
    {
     "name": "stdout",
     "output_type": "stream",
     "text": [
      "  200          0.90000\n",
      "   24         -0.04150          0.04150\n",
      "   24         -0.04150          0.04150\n",
      "        -1.00000\n",
      "    -0.00000e+00\n",
      "    -0.00000e+00\n",
      "    -0.00000e+00\n",
      "    -0.00000e+00\n",
      "    -0.00000e+00\n",
      "    -0.00000e+00\n"
     ]
    }
   ],
   "source": [
    "!head {F}"
   ]
  },
  {
   "cell_type": "code",
   "execution_count": 4,
   "id": "455aa3b0",
   "metadata": {},
   "outputs": [
    {
     "data": {
      "text/plain": [
       "{'eleAnchorPt': 'beginning',\n",
       " 'gridGeometry': 'cartesian',\n",
       " 'axisLabels': ('x', 'y', 'z'),\n",
       " 'gridLowerBound': (0, 0, 0),\n",
       " 'gridSize': (25, 25, 201),\n",
       " 'gridSpacing': (0.0034583333333333337,\n",
       "  0.0034583333333333337,\n",
       "  0.0045000000000000005),\n",
       " 'fieldScale': -1.0,\n",
       " 'gridOriginOffset': (-0.0415, -0.0415, 0)}"
      ]
     },
     "execution_count": 4,
     "metadata": {},
     "output_type": "execute_result"
    }
   ],
   "source": [
    "def parse_3d_fieldmap(file, check_shape=True):\n",
    "    \"\"\"\n",
    "    \n",
    "    From the TraceWin manual:\n",
    "    \n",
    "    The data is written as:\n",
    "    - Dimension 3 :\n",
    "    nz zmax\n",
    "    nx xmin xmax\n",
    "    ny ymin ymax\n",
    "    Norm\n",
    "    for k=0 to nz\n",
    "        for j=0 to ny\n",
    "            for i=0 to nx\n",
    "                Fz(k*zmax/nz, \n",
    "                   ymin+j*(ymax-ymin)/ny, \n",
    "                   xmin+i*(xmax-xmin)/nx) \n",
    "                   \n",
    "    The normalization factor is equal to ke/Norm or kb/Norm.                   \n",
    "    Fz are in MV/m for electric field or in T for magnetic field.\n",
    "    \n",
    "    \"\"\"\n",
    "    \n",
    "    # Read four header lines and cast\n",
    "    with open(file) as f:\n",
    "        line1 = f.readline().split()\n",
    "        line2 = f.readline().split()\n",
    "        line3 = f.readline().split()\n",
    "        line4 = f.readline().split()\n",
    "    nz, zmax= int(line1[0]), float(line1[1])\n",
    "    nx, xmin, xmax = int(line2[0]), float(line2[1]), float(line2[2])\n",
    "    ny, ymin, ymax = int(line3[0]), float(line3[1]), float(line3[2])\n",
    "    norm = float(line4[0])\n",
    "    \n",
    "    # Grid spacings\n",
    "    zmin = 0 \n",
    "    dx = (xmax-xmin)/nx\n",
    "    dy = (ymax-ymin)/ny\n",
    "    dz = zmax/nz\n",
    "    \n",
    "    # Read flat data\n",
    "    dat = np.loadtxt(file, skiprows=4)\n",
    "    n = len(dat)\n",
    "    assert (nx+1)*(ny+1)*(nz+1) == n, 'header sizes are inconsistent with the data'\n",
    "    \n",
    "    # Reshape \n",
    "    mesh3d = dat.reshape(nz+1, ny+1, nx+1)  \n",
    "   \n",
    "    \n",
    "    if check_shape:\n",
    "    # Check shape\n",
    "        dat2 = []\n",
    "        for k in range(nz+1):\n",
    "            for j in range(ny+1):\n",
    "                for i in range(nx+1):\n",
    "                    dat2.append(mesh3d[k,j,i])\n",
    "                    \n",
    "        dat2 = np.array(dat2)\n",
    "        assert np.allclose(dat, dat2)\n",
    "    \n",
    "    # put in x, y, z order\n",
    "    mesh3d = np.transpose(mesh3d)\n",
    "    \n",
    "    # Attributes\n",
    "    attrs = {}\n",
    "    attrs['eleAnchorPt'] = 'beginning'\n",
    "    attrs['gridGeometry'] = 'cartesian'\n",
    "    attrs['axisLabels'] = ('x', 'y', 'z')\n",
    "    attrs['gridLowerBound'] = (0, 0, 0)\n",
    "    attrs['gridSize'] = (nx+1, ny+1, nz+1)        \n",
    "    attrs['gridSpacing'] = (dx, dy, dz)  \n",
    "    attrs['fieldScale'] = 1/norm\n",
    "    \n",
    "    # Set requested zmin\n",
    "    attrs['gridOriginOffset'] = (xmin, ymin, zmin)     \n",
    "                \n",
    "    return attrs, mesh3d\n",
    "\n",
    "attrs, d = parse_3d_fieldmap(F)   \n",
    "attrs"
   ]
  },
  {
   "cell_type": "code",
   "execution_count": 5,
   "id": "7d4b40f9",
   "metadata": {},
   "outputs": [
    {
     "data": {
      "text/plain": [
       "[<matplotlib.lines.Line2D at 0x124208790>]"
      ]
     },
     "execution_count": 5,
     "metadata": {},
     "output_type": "execute_result"
    },
    {
     "data": {
      "image/png": "[encoded data removed]",
      "text/plain": [
       "<Figure size 432x288 with 1 Axes>"
      ]
     },
     "metadata": {
      "needs_background": "light"
     },
     "output_type": "display_data"
    }
   ],
   "source": [
    "plt.plot(d[13,13,:])"
   ]
  }
 ],
 "metadata": {
  "kernelspec": {
   "display_name": "Python 3 (ipykernel)",
   "language": "python",
   "name": "python3"
  },
  "language_info": {
   "codemirror_mode": {
    "name": "ipython",
    "version": 3
   },
   "file_extension": ".py",
   "mimetype": "text/x-python",
   "name": "python",
   "nbconvert_exporter": "python",
   "pygments_lexer": "ipython3",
   "version": "3.9.10"
  }
 },
 "nbformat": 4,
 "nbformat_minor": 5
}
