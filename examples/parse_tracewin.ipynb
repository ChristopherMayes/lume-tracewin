{
 "cells": [
  {
   "cell_type": "markdown",
   "id": "4cde6096",
   "metadata": {},
   "source": [
    "# TraceWin parsing\n",
    "\n",
    "**IN DEVELOPMENT**\n",
    "\n",
    "Comments after `;`"
   ]
  },
  {
   "cell_type": "code",
   "execution_count": 1,
   "id": "c28b35b0",
   "metadata": {},
   "outputs": [],
   "source": [
    "%load_ext autoreload\n",
    "%autoreload 2"
   ]
  },
  {
   "cell_type": "code",
   "execution_count": 2,
   "id": "35c124ad",
   "metadata": {},
   "outputs": [],
   "source": [
    "from tracewin import parsers"
   ]
  },
  {
   "cell_type": "code",
   "execution_count": 3,
   "id": "83b5b809",
   "metadata": {},
   "outputs": [
    {
     "data": {
      "text/plain": [
       "{'quad': tracewin.elements.Quad,\n",
       " 'aperture': tracewin.elements.Aperture,\n",
       " 'chopper': tracewin.elements.Chopper,\n",
       " 'drift': tracewin.elements.Drift,\n",
       " 'field_map': tracewin.elements.Field_Map,\n",
       " 'field_map_path': tracewin.elements.Field_Map_Path,\n",
       " 'freq': tracewin.elements.Freq,\n",
       " 'lattice': tracewin.elements.Lattice,\n",
       " 'lattice_end': tracewin.elements.Lattice_End,\n",
       " 'set_sync_phase': tracewin.elements.Set_Sync_Phase,\n",
       " 'thin_steering': tracewin.elements.Thin_Steering}"
      ]
     },
     "execution_count": 3,
     "metadata": {},
     "output_type": "execute_result"
    }
   ],
   "source": [
    "# These are the elements that are assigned for parsing. \n",
    "# Note that there are more elements in tracewin.elements\n",
    "parsers.ele_parser"
   ]
  },
  {
   "cell_type": "code",
   "execution_count": 4,
   "id": "63524a83",
   "metadata": {},
   "outputs": [],
   "source": [
    "# Read some lattice lines\n",
    "LINES = open('data/linac.dat').readlines()"
   ]
  },
  {
   "cell_type": "code",
   "execution_count": 5,
   "id": "13de3382",
   "metadata": {},
   "outputs": [
    {
     "name": "stdout",
     "output_type": "stream",
     "text": [
      "end found\n"
     ]
    },
    {
     "data": {
      "text/plain": [
       "{'aperture',\n",
       " 'chopper',\n",
       " 'drift',\n",
       " 'field_map',\n",
       " 'field_map_path',\n",
       " 'freq',\n",
       " 'lattice',\n",
       " 'lattice_end',\n",
       " 'marker',\n",
       " 'quad',\n",
       " 'set_sync_phase',\n",
       " 'thin_steering'}"
      ]
     },
     "execution_count": 5,
     "metadata": {},
     "output_type": "execute_result"
    }
   ],
   "source": [
    "eles = []\n",
    "for line in LINES:\n",
    "    ele = parsers.parse_lattice_line(line)\n",
    "    if ele.ele_type == 'end':\n",
    "        print('end found')\n",
    "        break\n",
    "    eles.append(ele)\n",
    "    \n",
    "# Complete set\n",
    "set(ele.ele_type for ele in eles)"
   ]
  },
  {
   "cell_type": "code",
   "execution_count": 6,
   "id": "63969b09",
   "metadata": {},
   "outputs": [
    {
     "data": {
      "text/plain": [
       "[Field_Map_Path(path='Fields'),\n",
       " DummyElement(ele_type='marker', line=''),\n",
       " Drift(L=250.0, R=16.0, Ry=0.0, Rx_shift=0.0, Ry_shift=0.0),\n",
       " Drift(L=1e-20, R=14.0, Ry=0.0, Rx_shift=0.0, Ry_shift=0.0),\n",
       " DummyElement(ele_type='marker', line=''),\n",
       " DummyElement(ele_type='marker', line=''),\n",
       " Freq(f=162.5),\n",
       " DummyElement(ele_type='marker', line=''),\n",
       " DummyElement(ele_type='marker', line=''),\n",
       " DummyElement(ele_type='marker', line=''),\n",
       " Drift(L=50.0, R=15.0, Ry=0.0, Rx_shift=0.0, Ry_shift=0.0),\n",
       " Aperture(dx=15.0, dy=15.0, n=1),\n",
       " Quad(L=100.0, G=12.2, R=15.0, theta=0.0, g3=0.0, g4=0.0, g5=0.0, g6=0.0, GRF=0.0),\n",
       " Aperture(dx=15.0, dy=15.0, n=1)]"
      ]
     },
     "execution_count": 6,
     "metadata": {},
     "output_type": "execute_result"
    }
   ],
   "source": [
    "# Parsed elements\n",
    "eles[0:14]"
   ]
  },
  {
   "cell_type": "markdown",
   "id": "2748124b",
   "metadata": {},
   "source": [
    "# as TraceWin\n",
    "\n",
    "Call the `.as_tracewin` method on each element to reproduce the original input."
   ]
  },
  {
   "cell_type": "code",
   "execution_count": 7,
   "id": "a48a5f28",
   "metadata": {},
   "outputs": [
    {
     "name": "stdout",
     "output_type": "stream",
     "text": [
      "FIELD_MAP_PATH Fields\n",
      "DRIFT 250.0 16.0 0.0 0.0 0.0\n",
      "DRIFT 1e-20 14.0 0.0 0.0 0.0\n",
      "FREQ 162.5\n",
      "DRIFT 50.0 15.0 0.0 0.0 0.0\n",
      "APERTURE 15.0 15.0 1\n",
      "QUAD 100.0 12.2 15.0 0.0 0.0 0.0 0.0 0.0 0.0\n",
      "APERTURE 15.0 15.0 1\n",
      "DRIFT 35.0 15.0 0.0 0.0 0.0\n",
      "DRIFT 1e-08 14.0 0.0 0.0 0.0\n",
      "DRIFT 35.0 15.0 0.0 0.0 0.0\n",
      "APERTURE 15.0 15.0 1\n",
      "QUAD 100.0 -10.88 15.0 0.0 0.0 0.0 0.0 0.0 0.0\n"
     ]
    }
   ],
   "source": [
    "for ele in eles[0:20]:\n",
    "    if ele.ele_type == 'marker':\n",
    "        continue\n",
    "    #print(ele, ele.ele_type)\n",
    "    print(ele.as_tracewin)"
   ]
  },
  {
   "cell_type": "markdown",
   "id": "8a5d2d3d",
   "metadata": {},
   "source": [
    "# as Bmad"
   ]
  },
  {
   "cell_type": "code",
   "execution_count": 8,
   "id": "e7a3064a",
   "metadata": {},
   "outputs": [],
   "source": [
    "def chunks(lst, n):\n",
    "    \"\"\"Yield successive n-sized chunks from lst.\"\"\"\n",
    "    for i in range(0, len(lst), n):\n",
    "        yield lst[i:i + n]"
   ]
  },
  {
   "cell_type": "code",
   "execution_count": 9,
   "id": "8deed34a",
   "metadata": {},
   "outputs": [],
   "source": [
    "def bmad_lines(eles):\n",
    "    \n",
    "    idrift = 0\n",
    "    iquad = 0\n",
    "    ifieldmap = 0\n",
    "    isteer = 0\n",
    "    \n",
    "    lines = []\n",
    "    names = []\n",
    "    freq = 0\n",
    "    \n",
    "    for ele in eles:\n",
    "        t = ele.ele_type\n",
    "        \n",
    "        if t == 'drift':\n",
    "            idrift += 1\n",
    "            name = f'D{idrift}'\n",
    "            line = f'{name}: drift, L = {ele.L/1000}'\n",
    "            \n",
    "        elif t == 'quad':\n",
    "            iquad += 1\n",
    "            name = f'Q{iquad}'\n",
    "            line = f'{name}: quad, L = {ele.L/1000}'\n",
    "            \n",
    "        elif t == 'field_map':\n",
    "            ifieldmap += 1\n",
    "            name = f'FM{ifieldmap}'\n",
    "            line = f'{name}: lcavity, L = {ele.L/1000}, rf_frequency = {freq*1e6}'\n",
    "            \n",
    "        elif t =='thin_steering':\n",
    "            isteer += 1\n",
    "            name = f'K{isteer}'\n",
    "            line = f'{name}: kicker, L = 0'\n",
    "        elif t == 'freq':\n",
    "            freq = ele.f\n",
    "            continue\n",
    "        else:\n",
    "            name = 'BAD'\n",
    "            line = ''\n",
    "            continue\n",
    "            \n",
    "        \n",
    "         \n",
    "        # Collect\n",
    "        lines.append(line)\n",
    "        names.append(name)\n",
    "    \n",
    "    latlines = []\n",
    "    for c in chunks(names, 8):\n",
    "        line = ', '.join(c)\n",
    "        latlines.append(line)\n",
    "    latline = 'lat: line = (\\n'\n",
    "    latline += ',\\n'.join(latlines)\n",
    "    latline += ')'\n",
    "\n",
    "    lines.append(latline)\n",
    "    \n",
    "    return lines\n",
    "            \n",
    "bmad_lines(eles);"
   ]
  },
  {
   "cell_type": "code",
   "execution_count": 10,
   "id": "74c7c915",
   "metadata": {},
   "outputs": [],
   "source": [
    "with open('test.bmad', 'w') as f:\n",
    "    for line in bmad_lines(eles):\n",
    "        f.write(line + '\\n')"
   ]
  },
  {
   "cell_type": "code",
   "execution_count": 11,
   "id": "21ac412b",
   "metadata": {},
   "outputs": [
    {
     "name": "stdout",
     "output_type": "stream",
     "text": [
      "D1: drift, L = 0.25\n",
      "D2: drift, L = 1e-23\n",
      "D3: drift, L = 0.05\n",
      "Q1: quad, L = 0.1\n",
      "D4: drift, L = 0.035\n",
      "D5: drift, L = 1.0000000000000001e-11\n",
      "D6: drift, L = 0.035\n",
      "Q2: quad, L = 0.1\n",
      "D7: drift, L = 0.05\n",
      "D8: drift, L = 0.009\n"
     ]
    }
   ],
   "source": [
    "!head test.bmad"
   ]
  },
  {
   "cell_type": "markdown",
   "id": "d295f2b4",
   "metadata": {},
   "source": [
    "# Fieldmaps\n",
    "\n",
    "TODO"
   ]
  },
  {
   "cell_type": "code",
   "execution_count": 12,
   "id": "0d175525",
   "metadata": {},
   "outputs": [],
   "source": [
    "fm = []\n",
    "g  = []\n",
    "for ele in eles:\n",
    "    if ele.ele_type == 'field_map':\n",
    "        fm.append(ele.filename)\n",
    "        g.append(ele.geom)"
   ]
  },
  {
   "cell_type": "code",
   "execution_count": 13,
   "id": "a009b28d",
   "metadata": {},
   "outputs": [
    {
     "data": {
      "text/plain": [
       "{'HWR-SOL-ANLMAP',\n",
       " 'HWRDonut',\n",
       " 'QWR-2012-02',\n",
       " 'SSR13D_#72',\n",
       " 'SSR2_beta047_v26',\n",
       " 'SSR_SOL_cut',\n",
       " 'beta063D_#43',\n",
       " 'beta092'}"
      ]
     },
     "execution_count": 13,
     "metadata": {},
     "output_type": "execute_result"
    }
   ],
   "source": [
    "set(fm)"
   ]
  },
  {
   "cell_type": "code",
   "execution_count": 14,
   "id": "fb3ae8f8",
   "metadata": {},
   "outputs": [
    {
     "data": {
      "text/plain": [
       "{10, 70, 7700}"
      ]
     },
     "execution_count": 14,
     "metadata": {},
     "output_type": "execute_result"
    }
   ],
   "source": [
    "set(g)"
   ]
  },
  {
   "cell_type": "code",
   "execution_count": 15,
   "id": "187f7d2a",
   "metadata": {},
   "outputs": [
    {
     "data": {
      "text/plain": [
       "{'static electric field': '0',\n",
       " 'static magnetic field': '0',\n",
       " 'RF electric field': '7',\n",
       " 'RF magnetic field': '7',\n",
       " '3D aperture map': '0'}"
      ]
     },
     "execution_count": 15,
     "metadata": {},
     "output_type": "execute_result"
    }
   ],
   "source": [
    "gkeys = ('static electric field',\n",
    "'static magnetic field',\n",
    "'RF electric field',\n",
    "'RF magnetic field',\n",
    "'3D aperture map')\n",
    "def parse_geom(geom):\n",
    "    return dict(zip(gkeys, list(reversed(f'{geom:05}'))))\n",
    "\n",
    "parse_geom(7700)    "
   ]
  },
  {
   "cell_type": "code",
   "execution_count": 16,
   "id": "a684a9c5",
   "metadata": {},
   "outputs": [
    {
     "data": {
      "text/plain": [
       "{'static electric field': '0',\n",
       " 'static magnetic field': '1',\n",
       " 'RF electric field': '0',\n",
       " 'RF magnetic field': '0',\n",
       " '3D aperture map': '0'}"
      ]
     },
     "execution_count": 16,
     "metadata": {},
     "output_type": "execute_result"
    }
   ],
   "source": [
    "parse_geom(10)"
   ]
  },
  {
   "cell_type": "code",
   "execution_count": 17,
   "id": "604f32d1",
   "metadata": {},
   "outputs": [
    {
     "data": {
      "text/plain": [
       "{'static electric field': '0',\n",
       " 'static magnetic field': '7',\n",
       " 'RF electric field': '0',\n",
       " 'RF magnetic field': '0',\n",
       " '3D aperture map': '0'}"
      ]
     },
     "execution_count": 17,
     "metadata": {},
     "output_type": "execute_result"
    }
   ],
   "source": [
    "parse_geom(70)"
   ]
  },
  {
   "cell_type": "code",
   "execution_count": 18,
   "id": "344f80b8",
   "metadata": {},
   "outputs": [],
   "source": [
    "# Cleanup\n",
    "!rm test.bmad"
   ]
  }
 ],
 "metadata": {
  "kernelspec": {
   "display_name": "Python 3 (ipykernel)",
   "language": "python",
   "name": "python3"
  },
  "language_info": {
   "codemirror_mode": {
    "name": "ipython",
    "version": 3
   },
   "file_extension": ".py",
   "mimetype": "text/x-python",
   "name": "python",
   "nbconvert_exporter": "python",
   "pygments_lexer": "ipython3",
   "version": "3.9.10"
  }
 },
 "nbformat": 4,
 "nbformat_minor": 5
}
